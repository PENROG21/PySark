{
  "nbformat": 4,
  "nbformat_minor": 0,
  "metadata": {
    "colab": {
      "provenance": [],
      "authorship_tag": "ABX9TyMXPyJBsZgANMl3LmWsRiW0",
      "include_colab_link": true
    },
    "kernelspec": {
      "name": "python3",
      "display_name": "Python 3"
    },
    "language_info": {
      "name": "python"
    }
  },
  "cells": [
    {
      "cell_type": "markdown",
      "metadata": {
        "id": "view-in-github",
        "colab_type": "text"
      },
      "source": [
        "<a href=\"https://colab.research.google.com/github/PENROG21/PySark/blob/main/DataFrame_PySpark.ipynb\" target=\"_parent\"><img src=\"https://colab.research.google.com/assets/colab-badge.svg\" alt=\"Open In Colab\"/></a>"
      ]
    },
    {
      "cell_type": "code",
      "execution_count": 1,
      "metadata": {
        "colab": {
          "base_uri": "https://localhost:8080/"
        },
        "id": "dPH41qyLs59_",
        "outputId": "24e3b49c-3211-493d-a4f9-0e4ae8bf3af5"
      },
      "outputs": [
        {
          "output_type": "stream",
          "name": "stdout",
          "text": [
            "Requirement already satisfied: pyspark in /usr/local/lib/python3.11/dist-packages (3.5.4)\n",
            "Requirement already satisfied: py4j==0.10.9.7 in /usr/local/lib/python3.11/dist-packages (from pyspark) (0.10.9.7)\n"
          ]
        }
      ],
      "source": [
        "!pip install pyspark"
      ]
    },
    {
      "cell_type": "markdown",
      "source": [
        "Схема DataFrame\n",
        "\n",
        "**2. `StructType` и `StructField`**\n",
        "\n",
        "* Импортируются из `pyspark.sql.types`.\n",
        "* `StructType` используется для определения схемы DataFrame, а `StructField` используется для определения отдельных полей в схеме.\n",
        "* В примере кода `StructType` используется для создания схемы с полями `name` и `age`, каждый из которых имеет тип `StringType` и `IntegerType` соответственно.\n",
        "\n",
        "**3. `StringType` и `IntegerType`**\n",
        "\n",
        "* Импортируются из `pyspark.sql.types`.\n",
        "* `StringType` и `IntegerType` представляют собой встроенные типы данных PySpark, которые используются для определения типов полей в схеме DataFrame.\n",
        "* В приведенном выше коде поле `name` имеет тип `StringType`, а поле `age` имеет тип `IntegerType`."
      ],
      "metadata": {
        "id": "WQ2uHYmetCob"
      }
    },
    {
      "cell_type": "code",
      "source": [
        "from pyspark.sql import SparkSession\n",
        "from pyspark.sql.types import StructType, StructField, StringType, IntegerType\n",
        "\n",
        "spark = SparkSession.builder \\\n",
        ".appName('schema').config(\"spark.master\", \"local\").getOrCreate()"
      ],
      "metadata": {
        "id": "74wjE-wFtC8A"
      },
      "execution_count": 18,
      "outputs": []
    },
    {
      "cell_type": "markdown",
      "source": [
        "Первй способ как создать DataFrame\n",
        "\n",
        "Этот способ стредует создание схемы, которую вы сами пишети."
      ],
      "metadata": {
        "id": "hurF0ZpXwSuy"
      }
    },
    {
      "cell_type": "code",
      "source": [
        "# Список кортежей с данными\n",
        "data = [('Alice', 25),\n",
        "        ('Artem', 26),\n",
        "        (\"Ivan\", 48)]\n",
        "\n",
        "# Определение схемы DataFrame\n",
        "# True = это значит поле может быть None\n",
        "schema = StructType([\n",
        "    StructField(\"name\", StringType(), True),  # Поле \"name\" типа String (строка)\n",
        "    StructField(\"age\", IntegerType(), True),  # Поле \"age\" типа Integer (целое число)\n",
        "])\n",
        "\n",
        "# Создание DataFrame из данных и схемы\n",
        "df = spark.createDataFrame(data, schema)\n",
        "\n",
        "# Вывод схемы DataFrame\n",
        "df.printSchema()"
      ],
      "metadata": {
        "colab": {
          "base_uri": "https://localhost:8080/"
        },
        "id": "MvFciJc1vtlX",
        "outputId": "a9a56d08-b847-417e-8691-5196393201de"
      },
      "execution_count": 19,
      "outputs": [
        {
          "output_type": "stream",
          "name": "stdout",
          "text": [
            "root\n",
            " |-- name: string (nullable = true)\n",
            " |-- age: integer (nullable = true)\n",
            "\n"
          ]
        }
      ]
    },
    {
      "cell_type": "markdown",
      "source": [
        "Вывод данных можно делать через легендарный метод в Spark и мой самый любимый .show\n",
        "\n",
        "Синтаксис\n",
        "\n",
        "n - необязательный элемент. Колличество первых строк которые надо вывести.\n",
        "Максимум строк, который этот метод может вывести это 20.\n",
        "\n",
        "```\n",
        "DataFrame.show(n)\n",
        "```\n",
        "\n"
      ],
      "metadata": {
        "id": "0twwxMJF4ZOo"
      }
    },
    {
      "cell_type": "code",
      "source": [
        "df.show()"
      ],
      "metadata": {
        "colab": {
          "base_uri": "https://localhost:8080/"
        },
        "id": "W8gaV-K_vDjT",
        "outputId": "84f80add-8499-4a7c-fff8-53600fba210b"
      },
      "execution_count": 20,
      "outputs": [
        {
          "output_type": "stream",
          "name": "stdout",
          "text": [
            "+-----+---+\n",
            "| name|age|\n",
            "+-----+---+\n",
            "|Alice| 25|\n",
            "|Artem| 26|\n",
            "| Ivan| 48|\n",
            "+-----+---+\n",
            "\n"
          ]
        }
      ]
    },
    {
      "cell_type": "markdown",
      "source": [
        "Второй способо.\n",
        "\n",
        "Он не требует создание от вас схемы. Метод createDataFrame сам создаёт схему и определяет тип данных."
      ],
      "metadata": {
        "id": "EDXg-yeswQpp"
      }
    },
    {
      "cell_type": "code",
      "source": [
        "# Список словарей с данными\n",
        "data = [\n",
        "    {\"name\": \"Alice\", \"age\": 29},\n",
        "    {\"name\": \"Bob\", \"age\": 22},\n",
        "    {\"name\": \"George\", \"age\": 30}\n",
        "]\n",
        "\n",
        "# Создание DataFrame из списка словарей\n",
        "# Spark автоматически выведет схему DataFrame\n",
        "df = spark.createDataFrame(data)\n",
        "\n",
        "# Вывод схемы DataFrame\n",
        "df.printSchema()"
      ],
      "metadata": {
        "colab": {
          "base_uri": "https://localhost:8080/"
        },
        "id": "rrFHC-Fwvv8l",
        "outputId": "38f5a8cc-a852-4626-80fe-572bc937165f"
      },
      "execution_count": 21,
      "outputs": [
        {
          "output_type": "stream",
          "name": "stdout",
          "text": [
            "root\n",
            " |-- age: long (nullable = true)\n",
            " |-- name: string (nullable = true)\n",
            "\n"
          ]
        }
      ]
    },
    {
      "cell_type": "markdown",
      "source": [
        "Выодим таблицу"
      ],
      "metadata": {
        "id": "LpHoMSnY5WDk"
      }
    },
    {
      "cell_type": "code",
      "source": [
        "df.show()"
      ],
      "metadata": {
        "colab": {
          "base_uri": "https://localhost:8080/"
        },
        "id": "9zgZldk3vRyQ",
        "outputId": "17be8b66-add9-4b52-dd9c-29fca34cd077"
      },
      "execution_count": 15,
      "outputs": [
        {
          "output_type": "stream",
          "name": "stdout",
          "text": [
            "+---+------+\n",
            "|age|  name|\n",
            "+---+------+\n",
            "| 29| Alice|\n",
            "| 22|   Bob|\n",
            "| 30|George|\n",
            "+---+------+\n",
            "\n"
          ]
        }
      ]
    },
    {
      "cell_type": "markdown",
      "source": [
        "Третий способ.\n",
        "\n",
        "Этот способ просто преобразовыввает RDD в DataFrame.\n"
      ],
      "metadata": {
        "id": "ink-VOVA0Cmi"
      }
    },
    {
      "cell_type": "code",
      "source": [
        "# Создание RDD из списка словарей\n",
        "rdd = spark.sparkContext.parallelize(data)\n",
        "\n",
        "# Преобразование RDD в DataFrame с использованием имен столбцов\n",
        "df = rdd.toDF(['name', 'age'])\n",
        "\n",
        "# Вывод схемы DataFrame\n",
        "df.printSchema()"
      ],
      "metadata": {
        "colab": {
          "base_uri": "https://localhost:8080/"
        },
        "id": "eWNUSS-60CVg",
        "outputId": "0f828e7b-4571-4d2f-af04-1331caaa9924"
      },
      "execution_count": 16,
      "outputs": [
        {
          "output_type": "stream",
          "name": "stdout",
          "text": [
            "root\n",
            " |-- name: long (nullable = true)\n",
            " |-- age: string (nullable = true)\n",
            "\n"
          ]
        }
      ]
    },
    {
      "cell_type": "code",
      "source": [
        "df.show()"
      ],
      "metadata": {
        "colab": {
          "base_uri": "https://localhost:8080/"
        },
        "id": "xL99onKM0Wkx",
        "outputId": "5cd04469-78fa-4e6b-e77c-49e704317411"
      },
      "execution_count": 17,
      "outputs": [
        {
          "output_type": "stream",
          "name": "stdout",
          "text": [
            "+----+------+\n",
            "|name|   age|\n",
            "+----+------+\n",
            "|  29| Alice|\n",
            "|  22|   Bob|\n",
            "|  30|George|\n",
            "+----+------+\n",
            "\n"
          ]
        }
      ]
    }
  ]
}