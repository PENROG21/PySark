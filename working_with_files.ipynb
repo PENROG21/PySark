{
  "nbformat": 4,
  "nbformat_minor": 0,
  "metadata": {
    "colab": {
      "provenance": [],
      "authorship_tag": "ABX9TyPUE+pzVtkcKcAFZ+XZ8J4x",
      "include_colab_link": true
    },
    "kernelspec": {
      "name": "python3",
      "display_name": "Python 3"
    },
    "language_info": {
      "name": "python"
    }
  },
  "cells": [
    {
      "cell_type": "markdown",
      "metadata": {
        "id": "view-in-github",
        "colab_type": "text"
      },
      "source": [
        "<a href=\"https://colab.research.google.com/github/PENROG21/PySpark/blob/main/working_with_files.ipynb\" target=\"_parent\"><img src=\"https://colab.research.google.com/assets/colab-badge.svg\" alt=\"Open In Colab\"/></a>"
      ]
    },
    {
      "cell_type": "code",
      "execution_count": null,
      "metadata": {
        "colab": {
          "base_uri": "https://localhost:8080/"
        },
        "id": "2sNUAcemZRVi",
        "outputId": "bbc41246-e76b-48a0-a60a-5e57ba2a4206"
      },
      "outputs": [
        {
          "output_type": "stream",
          "name": "stdout",
          "text": [
            "Requirement already satisfied: pyspark in /usr/local/lib/python3.11/dist-packages (3.5.4)\n",
            "Requirement already satisfied: py4j==0.10.9.7 in /usr/local/lib/python3.11/dist-packages (from pyspark) (0.10.9.7)\n"
          ]
        }
      ],
      "source": [
        "!pip install pyspark"
      ]
    },
    {
      "cell_type": "markdown",
      "source": [
        "Загрузка текстовый файл в RDD"
      ],
      "metadata": {
        "id": "bi0y0ORig5mN"
      }
    },
    {
      "cell_type": "code",
      "source": [
        "from pyspark import SparkContext, SparkConf\n",
        "\n",
        "# Создаем SparkContext с конфигурацией\n",
        "conf = SparkConf().setMaster(\"local\").setAppName(\"Word Count\")\n",
        "sc = SparkContext(conf=conf)\n",
        "\n",
        "# Загружаем текстовый файл в RDD\n",
        "rdd = sc.textFile(\"/content/test.txt\")\n",
        "\n",
        "# Фильтруем RDD, оставляя только строки, содержащие слово \"Tera\"\n",
        "spark_lines = rdd.filter(lambda line: \"Tera\" in line)\n",
        "\n",
        "# Выводим отфильтрованные строки в список\n",
        "spark_lines_list = spark_lines.collect()"
      ],
      "metadata": {
        "colab": {
          "base_uri": "https://localhost:8080/"
        },
        "id": "qC3rjgNKZtNv",
        "outputId": "bd63a1ad-da25-44f2-98a0-81c9c3683be8"
      },
      "execution_count": null,
      "outputs": [
        {
          "output_type": "execute_result",
          "data": {
            "text/plain": [
              "['100,Tera,Rozanna,Tera.Rozanna@yopmail.com,Tera.Rozanna@gmail.com,worker',\n",
              " '515,Tera,Madelene,Tera.Madelene@yopmail.com,Tera.Madelene@gmail.com,developer',\n",
              " '657,Tera,Pattin,Tera.Pattin@yopmail.com,Tera.Pattin@gmail.com,police officer',\n",
              " '924,Tera,Franza,Tera.Franza@yopmail.com,Tera.Franza@gmail.com,police officer']"
            ]
          },
          "metadata": {},
          "execution_count": 10
        }
      ]
    },
    {
      "cell_type": "markdown",
      "source": [
        "Работа с CSV файлами"
      ],
      "metadata": {
        "id": "zz2zuIzmhR_t"
      }
    },
    {
      "cell_type": "code",
      "source": [
        "# Загружаем данные из CSV-файла в RDD\n",
        "rdd = sc.textFile(\"/content/test.csv\")\n",
        "\n",
        "# Разбиваем каждую строку на отдельные элементы по запятой\n",
        "spark_lines = rdd.map(lambda line: line.split(\",\"))\n",
        "\n",
        "# Выводим первые 5 строк для проверки\n",
        "spark_lines.take(5)"
      ],
      "metadata": {
        "colab": {
          "base_uri": "https://localhost:8080/"
        },
        "id": "M_-yd5mqcHw0",
        "outputId": "e3f878e0-74de-4cfe-dad5-69f71c8bd7df"
      },
      "execution_count": null,
      "outputs": [
        {
          "output_type": "execute_result",
          "data": {
            "text/plain": [
              "[['id', 'firstname', 'lastname', 'email', 'email2', 'profession'],\n",
              " ['100',\n",
              "  'Tera',\n",
              "  'Rozanna',\n",
              "  'Tera.Rozanna@yopmail.com',\n",
              "  'Tera.Rozanna@gmail.com',\n",
              "  'worker'],\n",
              " ['101',\n",
              "  'Cathyleen',\n",
              "  'Swigart',\n",
              "  'Cathyleen.Swigart@yopmail.com',\n",
              "  'Cathyleen.Swigart@gmail.com',\n",
              "  'worker'],\n",
              " ['102',\n",
              "  'Sherrie',\n",
              "  'Cath',\n",
              "  'Sherrie.Cath@yopmail.com',\n",
              "  'Sherrie.Cath@gmail.com',\n",
              "  'doctor'],\n",
              " ['103',\n",
              "  'Marti',\n",
              "  'Bluh',\n",
              "  'Marti.Bluh@yopmail.com',\n",
              "  'Marti.Bluh@gmail.com',\n",
              "  'worker']]"
            ]
          },
          "metadata": {},
          "execution_count": 11
        }
      ]
    },
    {
      "cell_type": "markdown",
      "source": [
        "Фильтруем по значением данные"
      ],
      "metadata": {
        "id": "W5sQadYYhNtl"
      }
    },
    {
      "cell_type": "code",
      "source": [
        "# cols - В данном случае это столбец. cols[1] столбец с индексом 1\n",
        "filter_rdd = spark_lines.filter(lambda cols: cols[1] == \"Ariela\")\n",
        "filter_rdd.collect()"
      ],
      "metadata": {
        "colab": {
          "base_uri": "https://localhost:8080/"
        },
        "id": "WPdcZLZ3cr4P",
        "outputId": "8050c5c7-46ec-4a39-ac85-620bf76c646e"
      },
      "execution_count": null,
      "outputs": [
        {
          "output_type": "execute_result",
          "data": {
            "text/plain": [
              "[['106',\n",
              "  'Ariela',\n",
              "  'Chrystel',\n",
              "  'Ariela.Chrystel@yopmail.com',\n",
              "  'Ariela.Chrystel@gmail.com',\n",
              "  'police officer']]"
            ]
          },
          "metadata": {},
          "execution_count": 12
        }
      ]
    },
    {
      "cell_type": "markdown",
      "source": [
        "**Сохранение файлов.**\n",
        "\n",
        "Мы будем использовать метод saveAsTextFile он сохраняет фаил в виде текста.\n",
        "\n",
        "Синтаксис.\n",
        "n - путь сохраняемого файла.\n",
        "\n",
        "```\n",
        ".saveAsTextFile(\"n\")\n",
        "```\n",
        "\n"
      ],
      "metadata": {
        "id": "x2wzpRSHeK_y"
      }
    },
    {
      "cell_type": "code",
      "source": [
        "filter_rdd.saveAsTextFile(\"content\")\n",
        "\n",
        "sc.stop()"
      ],
      "metadata": {
        "id": "upt7rqnGc4Ox"
      },
      "execution_count": null,
      "outputs": []
    }
  ]
}