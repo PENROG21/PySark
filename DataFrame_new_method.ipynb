{
  "nbformat": 4,
  "nbformat_minor": 0,
  "metadata": {
    "colab": {
      "provenance": [],
      "authorship_tag": "ABX9TyMoaVJGX0zeRgG0sCfug4g1",
      "include_colab_link": true
    },
    "kernelspec": {
      "name": "python3",
      "display_name": "Python 3"
    },
    "language_info": {
      "name": "python"
    }
  },
  "cells": [
    {
      "cell_type": "markdown",
      "metadata": {
        "id": "view-in-github",
        "colab_type": "text"
      },
      "source": [
        "<a href=\"https://colab.research.google.com/github/PENROG21/PySpark/blob/main/DataFrame_new_method.ipynb\" target=\"_parent\"><img src=\"https://colab.research.google.com/assets/colab-badge.svg\" alt=\"Open In Colab\"/></a>"
      ]
    },
    {
      "cell_type": "code",
      "execution_count": 2,
      "metadata": {
        "colab": {
          "base_uri": "https://localhost:8080/"
        },
        "id": "dPH41qyLs59_",
        "outputId": "3522a10d-3676-4b4c-bd3d-59a2d23cf2d6"
      },
      "outputs": [
        {
          "output_type": "stream",
          "name": "stdout",
          "text": [
            "Requirement already satisfied: pyspark in /usr/local/lib/python3.11/dist-packages (3.5.4)\n",
            "Requirement already satisfied: py4j==0.10.9.7 in /usr/local/lib/python3.11/dist-packages (from pyspark) (0.10.9.7)\n"
          ]
        }
      ],
      "source": [
        "!pip install pyspark"
      ]
    },
    {
      "cell_type": "markdown",
      "source": [
        "Схема DataFrame\n",
        "\n",
        "**2. `StructType` и `StructField`**\n",
        "\n",
        "* Импортируются из `pyspark.sql.types`.\n",
        "* `StructType` используется для определения схемы DataFrame, а `StructField` используется для определения отдельных полей в схеме.\n",
        "* В примере кода `StructType` используется для создания схемы с полями `name` и `age`, каждый из которых имеет тип `StringType` и `IntegerType` соответственно.\n",
        "\n",
        "**3. `StringType` и `IntegerType`**\n",
        "\n",
        "* Импортируются из `pyspark.sql.types`.\n",
        "* `StringType` и `IntegerType` представляют собой встроенные типы данных PySpark, которые используются для определения типов полей в схеме DataFrame.\n",
        "* В приведенном выше коде поле `name` имеет тип `StringType`, а поле `age` имеет тип `IntegerType`."
      ],
      "metadata": {
        "id": "WQ2uHYmetCob"
      }
    },
    {
      "cell_type": "code",
      "source": [
        "from pyspark.sql import SparkSession\n",
        "from pyspark.sql.types import StructType, StructField, StringType, IntegerType\n",
        "from pyspark.sql.functions import avg, max\n",
        "\n",
        "\n",
        "spark = SparkSession.builder \\\n",
        ".appName('schema').config(\"spark.master\", \"local\").getOrCreate()"
      ],
      "metadata": {
        "id": "74wjE-wFtC8A"
      },
      "execution_count": 21,
      "outputs": []
    },
    {
      "cell_type": "markdown",
      "source": [
        "Первй способ как создать DataFrame\n",
        "\n",
        "Этот способ использует схему, котроую вы сами напишите."
      ],
      "metadata": {
        "id": "hurF0ZpXwSuy"
      }
    },
    {
      "cell_type": "code",
      "source": [
        "# Список кортежей с данными\n",
        "data = [('Alice', 25),\n",
        "        ('Artem', 26),\n",
        "        (\"Ivan\", 48)]\n",
        "\n",
        "# Определение схемы DataFrame\n",
        "# True = это значит поле может быть None\n",
        "schema = StructType([\n",
        "    StructField(\"name\", StringType(), True),  # Поле \"name\" типа String (строка)\n",
        "    StructField(\"age\", IntegerType(), True),  # Поле \"age\" типа Integer (целое число)\n",
        "])\n",
        "\n",
        "# Создание DataFrame из данных и схемы\n",
        "df = spark.createDataFrame(data, schema)\n",
        "\n",
        "# Вывод схемы DataFrame\n",
        "df.printSchema()"
      ],
      "metadata": {
        "colab": {
          "base_uri": "https://localhost:8080/"
        },
        "id": "MvFciJc1vtlX",
        "outputId": "e873365b-0dd7-4a87-bd07-2bc95ee4ffe3"
      },
      "execution_count": 22,
      "outputs": [
        {
          "output_type": "stream",
          "name": "stdout",
          "text": [
            "root\n",
            " |-- name: string (nullable = true)\n",
            " |-- age: integer (nullable = true)\n",
            "\n"
          ]
        }
      ]
    },
    {
      "cell_type": "markdown",
      "source": [
        "Вывод данных можно делать через легендарный метод в Spark и мой самый любимый .show\n",
        "\n",
        "Синтаксис\n",
        "\n",
        "n - необязательный элемент. Колличество первых строк которые надо вывести.\n",
        "Максимум строк, который этот метод может вывести это 20.\n",
        "\n",
        "```\n",
        "DataFrame.show(n)\n",
        "```\n",
        "\n"
      ],
      "metadata": {
        "id": "0twwxMJF4ZOo"
      }
    },
    {
      "cell_type": "code",
      "source": [
        "df.show()"
      ],
      "metadata": {
        "colab": {
          "base_uri": "https://localhost:8080/"
        },
        "id": "W8gaV-K_vDjT",
        "outputId": "84f80add-8499-4a7c-fff8-53600fba210b"
      },
      "execution_count": null,
      "outputs": [
        {
          "output_type": "stream",
          "name": "stdout",
          "text": [
            "+-----+---+\n",
            "| name|age|\n",
            "+-----+---+\n",
            "|Alice| 25|\n",
            "|Artem| 26|\n",
            "| Ivan| 48|\n",
            "+-----+---+\n",
            "\n"
          ]
        }
      ]
    },
    {
      "cell_type": "markdown",
      "source": [
        "Второй способо.\n",
        "\n",
        "Он не требует создание от вас схемы. Метод createDataFrame сам создаёт схему и определяет тип данных."
      ],
      "metadata": {
        "id": "EDXg-yeswQpp"
      }
    },
    {
      "cell_type": "code",
      "source": [
        "# Список словарей с данными\n",
        "data = [\n",
        "    {\"name\": \"Alice\", \"age\": 29},\n",
        "    {\"name\": \"Bob\", \"age\": 22},\n",
        "    {\"name\": \"George\", \"age\": 30}\n",
        "]\n",
        "\n",
        "# Создание DataFrame из списка словарей\n",
        "# Spark автоматически выведет схему DataFrame\n",
        "df = spark.createDataFrame(data)\n",
        "\n",
        "# Вывод схемы DataFrame\n",
        "df.printSchema()"
      ],
      "metadata": {
        "colab": {
          "base_uri": "https://localhost:8080/"
        },
        "id": "rrFHC-Fwvv8l",
        "outputId": "38f5a8cc-a852-4626-80fe-572bc937165f"
      },
      "execution_count": null,
      "outputs": [
        {
          "output_type": "stream",
          "name": "stdout",
          "text": [
            "root\n",
            " |-- age: long (nullable = true)\n",
            " |-- name: string (nullable = true)\n",
            "\n"
          ]
        }
      ]
    },
    {
      "cell_type": "markdown",
      "source": [
        "Выодим таблицу"
      ],
      "metadata": {
        "id": "LpHoMSnY5WDk"
      }
    },
    {
      "cell_type": "code",
      "source": [
        "df.show()"
      ],
      "metadata": {
        "colab": {
          "base_uri": "https://localhost:8080/"
        },
        "id": "9zgZldk3vRyQ",
        "outputId": "17be8b66-add9-4b52-dd9c-29fca34cd077"
      },
      "execution_count": null,
      "outputs": [
        {
          "output_type": "stream",
          "name": "stdout",
          "text": [
            "+---+------+\n",
            "|age|  name|\n",
            "+---+------+\n",
            "| 29| Alice|\n",
            "| 22|   Bob|\n",
            "| 30|George|\n",
            "+---+------+\n",
            "\n"
          ]
        }
      ]
    },
    {
      "cell_type": "markdown",
      "source": [
        "Третий способ.\n",
        "\n",
        "Этот способ просто преобразовыввает RDD в DataFrame.\n"
      ],
      "metadata": {
        "id": "ink-VOVA0Cmi"
      }
    },
    {
      "cell_type": "code",
      "source": [
        "# Создание RDD из списка словарей\n",
        "rdd = spark.sparkContext.parallelize(data)\n",
        "\n",
        "# Преобразование RDD в DataFrame с использованием имен столбцов\n",
        "df = rdd.toDF(['name', 'age'])\n",
        "\n",
        "# Вывод схемы DataFrame\n",
        "df.printSchema()"
      ],
      "metadata": {
        "colab": {
          "base_uri": "https://localhost:8080/"
        },
        "id": "eWNUSS-60CVg",
        "outputId": "00f0c7d4-c4f2-4680-d76b-c7a5289373d3"
      },
      "execution_count": 23,
      "outputs": [
        {
          "output_type": "stream",
          "name": "stdout",
          "text": [
            "root\n",
            " |-- name: string (nullable = true)\n",
            " |-- age: long (nullable = true)\n",
            "\n"
          ]
        }
      ]
    },
    {
      "cell_type": "code",
      "source": [
        "df.show()"
      ],
      "metadata": {
        "colab": {
          "base_uri": "https://localhost:8080/"
        },
        "id": "xL99onKM0Wkx",
        "outputId": "98bc18e4-3782-4bfa-caf0-85dcf4449c6d"
      },
      "execution_count": 6,
      "outputs": [
        {
          "output_type": "stream",
          "name": "stdout",
          "text": [
            "+-----+---+\n",
            "| name|age|\n",
            "+-----+---+\n",
            "|Alice| 25|\n",
            "|Artem| 26|\n",
            "| Ivan| 48|\n",
            "+-----+---+\n",
            "\n"
          ]
        }
      ]
    },
    {
      "cell_type": "markdown",
      "source": [
        "# head и take\n",
        "\n",
        "Оба метода возращают строку n. (в данном случае 1)"
      ],
      "metadata": {
        "id": "89Ve6R0tZb7G"
      }
    },
    {
      "cell_type": "code",
      "source": [
        "df.head(1)\n",
        "df.take(1)"
      ],
      "metadata": {
        "colab": {
          "base_uri": "https://localhost:8080/"
        },
        "id": "MWeFngnbZYam",
        "outputId": "9182f895-67fb-4b7c-fef8-7df51a3596f0"
      },
      "execution_count": 7,
      "outputs": [
        {
          "output_type": "execute_result",
          "data": {
            "text/plain": [
              "[Row(name='Alice', age=25)]"
            ]
          },
          "metadata": {},
          "execution_count": 7
        }
      ]
    },
    {
      "cell_type": "markdown",
      "source": [
        "# Коллонны"
      ],
      "metadata": {
        "id": "jIzF8MNpZnB-"
      }
    },
    {
      "cell_type": "markdown",
      "source": [
        "**columns**\n",
        "\n",
        "Возращает список всех названий стобцов."
      ],
      "metadata": {
        "id": "6Qd69KuThFVP"
      }
    },
    {
      "cell_type": "code",
      "source": [
        "colums = df.columns\n",
        "colums"
      ],
      "metadata": {
        "colab": {
          "base_uri": "https://localhost:8080/"
        },
        "id": "IjdlvjyTZ-fu",
        "outputId": "4cc21dd8-3700-4fe6-c61a-aa78ae2d8c6d"
      },
      "execution_count": 10,
      "outputs": [
        {
          "output_type": "execute_result",
          "data": {
            "text/plain": [
              "['name', 'age']"
            ]
          },
          "metadata": {},
          "execution_count": 10
        }
      ]
    },
    {
      "cell_type": "markdown",
      "source": [
        "**dtypes**\n",
        "\n",
        "Возращает словарь с названиями и типов данных столбцов."
      ],
      "metadata": {
        "id": "v9DZLZPihME6"
      }
    },
    {
      "cell_type": "code",
      "source": [
        "colums = df.dtypes\n",
        "colums"
      ],
      "metadata": {
        "colab": {
          "base_uri": "https://localhost:8080/"
        },
        "id": "GKLVwJ2AaDuL",
        "outputId": "f0016d8d-0e89-46ee-ef6d-5407b3f44547"
      },
      "execution_count": 11,
      "outputs": [
        {
          "output_type": "execute_result",
          "data": {
            "text/plain": [
              "[('name', 'string'), ('age', 'bigint')]"
            ]
          },
          "metadata": {},
          "execution_count": 11
        }
      ]
    },
    {
      "cell_type": "markdown",
      "source": [
        "# SQL функции"
      ],
      "metadata": {
        "id": "8WCI3FU7hTpc"
      }
    },
    {
      "cell_type": "markdown",
      "source": [
        "**Select**\n",
        "\n",
        "Возрацает определённые столбцы"
      ],
      "metadata": {
        "id": "2bSAf1pkhYRe"
      }
    },
    {
      "cell_type": "code",
      "source": [
        "df.select(\"name\").show()"
      ],
      "metadata": {
        "colab": {
          "base_uri": "https://localhost:8080/"
        },
        "id": "sozTyN7oaJLI",
        "outputId": "5965b801-cbb2-4b2e-cd9c-f26d90e5d129"
      },
      "execution_count": 12,
      "outputs": [
        {
          "output_type": "stream",
          "name": "stdout",
          "text": [
            "+-----+\n",
            "| name|\n",
            "+-----+\n",
            "|Alice|\n",
            "|Artem|\n",
            "| Ivan|\n",
            "+-----+\n",
            "\n"
          ]
        }
      ]
    },
    {
      "cell_type": "markdown",
      "source": [
        "**selectExpr**\n",
        "\n",
        "Добаляет новый столбец\n",
        "\n",
        "В примере `age + 1 as age_plus_one` это код sql"
      ],
      "metadata": {
        "id": "vas5UD7bhfbT"
      }
    },
    {
      "cell_type": "code",
      "source": [
        "df.selectExpr(\"name\", \"age + 1 as age_plus_one\").show()"
      ],
      "metadata": {
        "colab": {
          "base_uri": "https://localhost:8080/"
        },
        "id": "xzIavM6TaWSQ",
        "outputId": "30ce9391-286a-4f11-de26-0d27f43011c4"
      },
      "execution_count": 13,
      "outputs": [
        {
          "output_type": "stream",
          "name": "stdout",
          "text": [
            "+-----+------------+\n",
            "| name|age_plus_one|\n",
            "+-----+------------+\n",
            "|Alice|          26|\n",
            "|Artem|          27|\n",
            "| Ivan|          49|\n",
            "+-----+------------+\n",
            "\n"
          ]
        }
      ]
    },
    {
      "cell_type": "markdown",
      "source": [
        "# функции для фильтрации данных"
      ],
      "metadata": {
        "id": "Y4j_nznJhu_8"
      }
    },
    {
      "cell_type": "markdown",
      "source": [
        "**filter**\n",
        "\n",
        "Это стандартная функция из spark"
      ],
      "metadata": {
        "id": "Yml4_3EFh1-G"
      }
    },
    {
      "cell_type": "code",
      "source": [
        "df.filter(df[\"age\"] > 30).show()"
      ],
      "metadata": {
        "colab": {
          "base_uri": "https://localhost:8080/"
        },
        "id": "T4HySEinakFv",
        "outputId": "ccbaaffb-1369-4c04-dd9e-ab8dae2aca7b"
      },
      "execution_count": 16,
      "outputs": [
        {
          "output_type": "stream",
          "name": "stdout",
          "text": [
            "+----+---+\n",
            "|name|age|\n",
            "+----+---+\n",
            "|Ivan| 48|\n",
            "+----+---+\n",
            "\n"
          ]
        }
      ]
    },
    {
      "cell_type": "markdown",
      "source": [
        "**where**\n",
        "\n",
        "Это функция из SQLspark"
      ],
      "metadata": {
        "id": "_kdYRgrYh82n"
      }
    },
    {
      "cell_type": "code",
      "source": [
        "df.where(df[\"age\"] > 30).show()"
      ],
      "metadata": {
        "colab": {
          "base_uri": "https://localhost:8080/"
        },
        "id": "BOQUOljIaf26",
        "outputId": "eb6bbab3-ccac-4426-ad5b-95ddc4bc713f"
      },
      "execution_count": 17,
      "outputs": [
        {
          "output_type": "stream",
          "name": "stdout",
          "text": [
            "+----+---+\n",
            "|name|age|\n",
            "+----+---+\n",
            "|Ivan| 48|\n",
            "+----+---+\n",
            "\n"
          ]
        }
      ]
    },
    {
      "cell_type": "markdown",
      "source": [
        "# Групировка."
      ],
      "metadata": {
        "id": "5Bi__hr1bMXa"
      }
    },
    {
      "cell_type": "code",
      "source": [
        "df.groupBy(\"age\").count().show()"
      ],
      "metadata": {
        "colab": {
          "base_uri": "https://localhost:8080/"
        },
        "id": "zOJyADXLa728",
        "outputId": "9b6e5f5e-58a0-4674-975c-2fafd3bd5eff"
      },
      "execution_count": 20,
      "outputs": [
        {
          "output_type": "stream",
          "name": "stdout",
          "text": [
            "+---+-----+\n",
            "|age|count|\n",
            "+---+-----+\n",
            "| 26|    1|\n",
            "| 25|    1|\n",
            "| 48|    1|\n",
            "+---+-----+\n",
            "\n"
          ]
        }
      ]
    },
    {
      "cell_type": "code",
      "source": [
        "df.groupBy(\"age\").agg(\n",
        "    avg(\"age\").alias(\"averange_age\"),\n",
        "    max(\"age\").alias(\"max_age\")\n",
        ").show()"
      ],
      "metadata": {
        "colab": {
          "base_uri": "https://localhost:8080/"
        },
        "id": "601WQISKbPVO",
        "outputId": "d1a18942-8bfd-4c35-e9e9-c32af8d45b28"
      },
      "execution_count": 24,
      "outputs": [
        {
          "output_type": "stream",
          "name": "stdout",
          "text": [
            "+---+------------+-------+\n",
            "|age|averange_age|max_age|\n",
            "+---+------------+-------+\n",
            "| 26|        26.0|     26|\n",
            "| 25|        25.0|     25|\n",
            "| 48|        48.0|     48|\n",
            "+---+------------+-------+\n",
            "\n"
          ]
        }
      ]
    },
    {
      "cell_type": "markdown",
      "source": [
        "# Сортировка\n",
        "\n",
        "есть 4 способа как сортировать."
      ],
      "metadata": {
        "id": "qQ-L00laiHJi"
      }
    },
    {
      "cell_type": "code",
      "source": [
        "df.orderBy(\"age\").show() # По возрастанию\n",
        "df.orderBy((df[\"age\"]).desc()).show() # По убыванию\n",
        "df.sort(\"age\", ascending = False).show() # По возрастанию\n",
        "df.sort(\"age\", ascending = True).show() # По убыванию"
      ],
      "metadata": {
        "colab": {
          "base_uri": "https://localhost:8080/"
        },
        "id": "ZaAPA-FEcADd",
        "outputId": "2f8bfc65-766b-49e1-83ae-c809b45fd6d6"
      },
      "execution_count": 28,
      "outputs": [
        {
          "output_type": "stream",
          "name": "stdout",
          "text": [
            "+-----+---+\n",
            "| name|age|\n",
            "+-----+---+\n",
            "| Ivan| 48|\n",
            "|Artem| 26|\n",
            "|Alice| 25|\n",
            "+-----+---+\n",
            "\n"
          ]
        }
      ]
    },
    {
      "cell_type": "markdown",
      "source": [
        "# Добавление колонки\n",
        "\n",
        "Сначала мы пиши название потом что за колонка."
      ],
      "metadata": {
        "id": "lwh95yq8iT_W"
      }
    },
    {
      "cell_type": "code",
      "source": [
        "df.withColumn(\"age_plis_one\", df[\"age\"] + 1).show()"
      ],
      "metadata": {
        "colab": {
          "base_uri": "https://localhost:8080/"
        },
        "id": "Gmo7dN0Fc7na",
        "outputId": "9f0eaa14-9308-4da2-b83e-f1cfb23dca98"
      },
      "execution_count": 29,
      "outputs": [
        {
          "output_type": "stream",
          "name": "stdout",
          "text": [
            "+-----+---+------------+\n",
            "| name|age|age_plis_one|\n",
            "+-----+---+------------+\n",
            "|Alice| 25|          26|\n",
            "|Artem| 26|          27|\n",
            "| Ivan| 48|          49|\n",
            "+-----+---+------------+\n",
            "\n"
          ]
        }
      ]
    },
    {
      "cell_type": "markdown",
      "source": [
        "# Переменнование столбца.\n",
        "\n",
        "n - Столбце который надо переменновать\n",
        "f - Новое имя столбца\n",
        "\n",
        "```\n",
        "#withColumnRenamed(\"n\", \"f\")\n",
        "```\n",
        "\n"
      ],
      "metadata": {
        "id": "7W2raLkFdVZ4"
      }
    },
    {
      "cell_type": "code",
      "source": [
        "df.withColumnRenamed(\"age\", \"fio\").show()"
      ],
      "metadata": {
        "colab": {
          "base_uri": "https://localhost:8080/"
        },
        "id": "sklyVLSqdGCF",
        "outputId": "7293046a-7b05-4d22-e44a-57e1076ae6b3"
      },
      "execution_count": 31,
      "outputs": [
        {
          "output_type": "stream",
          "name": "stdout",
          "text": [
            "+-----+---+\n",
            "| name|fio|\n",
            "+-----+---+\n",
            "|Alice| 25|\n",
            "|Artem| 26|\n",
            "| Ivan| 48|\n",
            "+-----+---+\n",
            "\n"
          ]
        }
      ]
    },
    {
      "cell_type": "markdown",
      "source": [
        "# Удаление столбца"
      ],
      "metadata": {
        "id": "T-JN9AcjdTHe"
      }
    },
    {
      "cell_type": "code",
      "source": [
        "df.drop(\"name\").show()"
      ],
      "metadata": {
        "colab": {
          "base_uri": "https://localhost:8080/"
        },
        "id": "dzj0SaEIdN7L",
        "outputId": "2a4cfd2b-6778-4fc4-ac92-fdd28779fcf5"
      },
      "execution_count": 32,
      "outputs": [
        {
          "output_type": "stream",
          "name": "stdout",
          "text": [
            "+---+\n",
            "|age|\n",
            "+---+\n",
            "| 25|\n",
            "| 26|\n",
            "| 48|\n",
            "+---+\n",
            "\n"
          ]
        }
      ]
    },
    {
      "cell_type": "markdown",
      "source": [
        "# Тренеровка с JOIN"
      ],
      "metadata": {
        "id": "VxP6cfa6er33"
      }
    },
    {
      "cell_type": "code",
      "source": [
        "# Список словарей с данными\n",
        "data1 = [\n",
        "    {\"id\": 1, \"name\": \"Alice\"},\n",
        "    {\"id\": 2, \"name\": \"Bob\"},\n",
        "    {\"id\": 3, \"name\": \"George\"}\n",
        "]\n",
        "\n",
        "data2 = [\n",
        "    {\"id\": 1, \"salary\": 50000},\n",
        "    {\"id\": 2, \"salary\": 40000},\n",
        "    {\"id\": 4, \"salary\": 60000}\n",
        "]\n",
        "\n",
        "# Создание DataFrame из списка словарей\n",
        "# Spark автоматически выведет схему DataFrame\n",
        "df1 = spark.createDataFrame(data1)\n",
        "df2 = spark.createDataFrame(data2)\n",
        "\n",
        "df_join = df1.join(df2, \"id\", \"inner\")\n",
        "\n",
        "df_join.show()"
      ],
      "metadata": {
        "colab": {
          "base_uri": "https://localhost:8080/"
        },
        "id": "tb4bwENIerh3",
        "outputId": "3a2c3af1-faa8-4af2-e5a6-33af00c9a600"
      },
      "execution_count": 38,
      "outputs": [
        {
          "output_type": "stream",
          "name": "stdout",
          "text": [
            "+---+-----+------+\n",
            "| id| name|salary|\n",
            "+---+-----+------+\n",
            "|  1|Alice| 50000|\n",
            "|  2|  Bob| 40000|\n",
            "+---+-----+------+\n",
            "\n"
          ]
        }
      ]
    }
  ]
}