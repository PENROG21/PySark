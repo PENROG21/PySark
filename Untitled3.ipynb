{
  "nbformat": 4,
  "nbformat_minor": 0,
  "metadata": {
    "colab": {
      "provenance": [],
      "collapsed_sections": [
        "pQ_EboMsNgxL"
      ],
      "authorship_tag": "ABX9TyNS7S2FtjUrpk/sCelelSnN",
      "include_colab_link": true
    },
    "kernelspec": {
      "name": "python3",
      "display_name": "Python 3"
    },
    "language_info": {
      "name": "python"
    }
  },
  "cells": [
    {
      "cell_type": "markdown",
      "metadata": {
        "id": "view-in-github",
        "colab_type": "text"
      },
      "source": [
        "<a href=\"https://colab.research.google.com/github/PENROG21/PySark/blob/main/Untitled3.ipynb\" target=\"_parent\"><img src=\"https://colab.research.google.com/assets/colab-badge.svg\" alt=\"Open In Colab\"/></a>"
      ]
    },
    {
      "cell_type": "code",
      "execution_count": 2,
      "metadata": {
        "colab": {
          "base_uri": "https://localhost:8080/"
        },
        "id": "iwe-1OuGGfFp",
        "outputId": "9e085d56-29e7-48ac-f9e4-2bb7159d2ce9"
      },
      "outputs": [
        {
          "output_type": "stream",
          "name": "stdout",
          "text": [
            "Requirement already satisfied: pyspark in /usr/local/lib/python3.10/dist-packages (3.5.3)\n",
            "Requirement already satisfied: py4j==0.10.9.7 in /usr/local/lib/python3.10/dist-packages (from pyspark) (0.10.9.7)\n"
          ]
        }
      ],
      "source": [
        "!pip install pyspark"
      ]
    },
    {
      "cell_type": "markdown",
      "source": [
        "RDD методы"
      ],
      "metadata": {
        "id": "mxIMHTg_HO93"
      }
    },
    {
      "cell_type": "code",
      "source": [
        "# Импортируем библиотеки\n",
        "from pyspark.sql import SparkSession\n",
        "from operator import add\n",
        "\n",
        "# Создание объекта SparkSession\n",
        "# SparkSession - это точка входа в программирование Spark.\n",
        "# builder() создает строитель SparkSession.\n",
        "# appName() задает имя приложения.\n",
        "# config() задает конфигурацию для Spark.\n",
        "# getOrCreate() получает существующий SparkSession или создает новый, если его нет.\n",
        "spark = SparkSession.builder \\\n",
        "    .appName(\"MySparkApp\") \\\n",
        "    .config(\"spark.master\", \"local[*]\") \\\n",
        "    .getOrCreate()\n",
        "\n",
        "# Получаем SparkContext из SparkSession.\n",
        "# SparkContext - это основной объект, представляющий контекст Spark.\n",
        "sc = spark.sparkContext\n",
        "\n",
        "# Создание RDD из списка.\n",
        "data = [1, 2, 3, 4, 5, 5, 6, 7, 8, 4, 9, 10]\n",
        "data2 = [1, 2, 3, 40]\n",
        "\n",
        "# Parallelize создает RDD из списка или массива.\n",
        "rdd = sc.parallelize(data)\n",
        "rdd2 = sc.parallelize(data2)\n",
        "\n",
        "# Вычисляем сумму чисел в RDD.\n",
        "# reduce() сводит элементы RDD к одному значению с использованием указанной функции.\n",
        "# add() - это функция, которая складывает два числа.\n",
        "print(\"reduce\", rdd2.reduce(add))\n",
        "\n",
        "# Остановка SparkSession.\n",
        "spark.stop()"
      ],
      "metadata": {
        "colab": {
          "base_uri": "https://localhost:8080/"
        },
        "id": "Qboby4QeHOIm",
        "outputId": "d99969a0-0b98-42ec-f88d-d9ce2a15b432"
      },
      "execution_count": 38,
      "outputs": [
        {
          "output_type": "stream",
          "name": "stdout",
          "text": [
            "reduce 46\n"
          ]
        }
      ]
    },
    {
      "cell_type": "markdown",
      "source": [
        "## rdd.map()\n",
        "**Что делает метод:**\n",
        "* Применяет функцию к каждому элементу RDD и возвращает новый RDD с измененными элементами.\n",
        "\n",
        "**Форма использования:**\n",
        "```\n",
        "new_rdd = rdd.map(lambda x: <выражение>)\n",
        "```\n"
      ],
      "metadata": {
        "id": "pQ_EboMsNgxL"
      }
    },
    {
      "cell_type": "code",
      "source": [
        "rdd_mapped = rdd.map(lambda x: x*2)\n",
        "print(rdd_mapped.collect())"
      ],
      "metadata": {
        "colab": {
          "base_uri": "https://localhost:8080/"
        },
        "id": "6eaaiBiXKn7R",
        "outputId": "3b87a3d5-6e58-481f-c222-f58f5c28f612"
      },
      "execution_count": 16,
      "outputs": [
        {
          "output_type": "stream",
          "name": "stdout",
          "text": [
            "[2, 4, 6, 8, 10, 12, 14, 16]\n"
          ]
        }
      ]
    },
    {
      "cell_type": "markdown",
      "source": [
        "## rdd.filter()\n",
        "\n",
        "**Что делает метод:**\n",
        "* Возвращает новый RDD, содержащий только те элементы, которые удовлетворяют заданному условию.\n",
        "\n",
        "**Форма использования:**\n",
        "```\n",
        "new_rdd = rdd.filter(lambda x: <условие>)\n",
        "```"
      ],
      "metadata": {
        "id": "7eN-0o6_NwZT"
      }
    },
    {
      "cell_type": "code",
      "source": [
        "rdd_filter = rdd.filter(lambda x: x%2 == 0)\n",
        "print(rdd_filter.collect())"
      ],
      "metadata": {
        "colab": {
          "base_uri": "https://localhost:8080/"
        },
        "id": "o8FC228sNlT7",
        "outputId": "1b3a5c09-5a91-4fa5-a85d-4ecc43e79b01"
      },
      "execution_count": 17,
      "outputs": [
        {
          "output_type": "stream",
          "name": "stdout",
          "text": [
            "[2, 4, 6, 8]\n"
          ]
        }
      ]
    },
    {
      "cell_type": "markdown",
      "source": [
        "## rdd.flatMap()\n",
        "**Что делает метод:**\n",
        "* Применяет функцию к каждому элементу RDD и возвращает новый плоский RDD, объединяя результаты.\n",
        "\n",
        "**Форма использования:**\n",
        "```\n",
        "new_rdd = rdd.flatMap(lambda x: <выражение>)\n",
        "```"
      ],
      "metadata": {
        "id": "zxkRU8IXN09m"
      }
    },
    {
      "cell_type": "code",
      "source": [
        "rdd_flatMap = rdd.flatMap(lambda x: [x, x*2])\n",
        "print(rdd_flatMap.collect())"
      ],
      "metadata": {
        "colab": {
          "base_uri": "https://localhost:8080/"
        },
        "id": "Pz1vpFNqN1Ps",
        "outputId": "062b346c-2eec-410a-f232-d7ca48d3ee7f"
      },
      "execution_count": 20,
      "outputs": [
        {
          "output_type": "stream",
          "name": "stdout",
          "text": [
            "[1, 2, 2, 4, 3, 6, 4, 8, 5, 10, 6, 12, 7, 14, 8, 16, 9, 18, 10, 20]\n"
          ]
        }
      ]
    },
    {
      "cell_type": "markdown",
      "source": [
        "## rdd.distinct()\n",
        "**Что делает метод:**\n",
        "* Возвращает новый RDD с уникальными элементами исходного RDD.\n",
        "\n",
        "**Форма использования:**\n",
        "```\n",
        "new_rdd = rdd.distinct()\n",
        "```"
      ],
      "metadata": {
        "id": "Y2X_SHRcPQck"
      }
    },
    {
      "cell_type": "code",
      "source": [
        "new_rdd = rdd.distinct()\n",
        "print(new_rdd.collect())"
      ],
      "metadata": {
        "colab": {
          "base_uri": "https://localhost:8080/"
        },
        "id": "g7wghMBNPQup",
        "outputId": "571d4dec-9f80-4310-c5b7-e8f846d0e465"
      },
      "execution_count": 25,
      "outputs": [
        {
          "output_type": "stream",
          "name": "stdout",
          "text": [
            "[2, 4, 6, 8, 10, 1, 3, 5, 7, 9]\n"
          ]
        }
      ]
    },
    {
      "cell_type": "markdown",
      "source": [
        "## rdd.union()\n",
        "**Что делает метод:**\n",
        "* Возвращает новый RDD, являющийся объединением исходного RDD с другим RDD.\n",
        "\n",
        "**Форма использования:**\n",
        "```\n",
        "new_rdd = rdd.union(other_rdd)\n",
        "```"
      ],
      "metadata": {
        "id": "ObhQ7KiZP4oN"
      }
    },
    {
      "cell_type": "code",
      "source": [
        "rdd_union = rdd.union(rdd2)\n",
        "print(rdd_union.collect())"
      ],
      "metadata": {
        "colab": {
          "base_uri": "https://localhost:8080/"
        },
        "id": "xxECwNivP4ZW",
        "outputId": "9c137ec4-0bb7-4d8d-f155-d560b1d4060f"
      },
      "execution_count": 28,
      "outputs": [
        {
          "output_type": "stream",
          "name": "stdout",
          "text": [
            "[1, 2, 3, 4, 5, 5, 6, 7, 8, 4, 9, 10, 1, 2, 3, 40]\n"
          ]
        }
      ]
    },
    {
      "cell_type": "markdown",
      "source": [
        "## rdd.count()\n",
        "**Что делает метод:**\n",
        "* Возвращает количество элементов в RDD.\n",
        "\n",
        "**Форма использования:**\n",
        "```\n",
        "count = rdd.count()\n",
        "```"
      ],
      "metadata": {
        "id": "ciAiIoYTQliD"
      }
    },
    {
      "cell_type": "code",
      "source": [
        "rdd.count()"
      ],
      "metadata": {
        "colab": {
          "base_uri": "https://localhost:8080/"
        },
        "id": "C8yJdL0QQmS-",
        "outputId": "33ee2e51-959c-451a-a598-4fea84d2beb8"
      },
      "execution_count": 29,
      "outputs": [
        {
          "output_type": "execute_result",
          "data": {
            "text/plain": [
              "12"
            ]
          },
          "metadata": {},
          "execution_count": 29
        }
      ]
    },
    {
      "cell_type": "markdown",
      "source": [
        "## rdd.take()\n",
        "**Что делает метод:**\n",
        "* Возвращает первые N элементов RDD в виде списка.\n",
        "\n",
        "**Форма использования:**\n",
        "```\n",
        "elements = rdd.take(n)\n",
        "```"
      ],
      "metadata": {
        "id": "rsHlVUSUQxHZ"
      }
    },
    {
      "cell_type": "code",
      "source": [
        "print(rdd2.take(3))"
      ],
      "metadata": {
        "colab": {
          "base_uri": "https://localhost:8080/"
        },
        "id": "0Ip5WvtMQ-IB",
        "outputId": "79865655-a8a9-4717-f62d-c7915f6f8e46"
      },
      "execution_count": 33,
      "outputs": [
        {
          "output_type": "stream",
          "name": "stdout",
          "text": [
            "[1, 2, 3]\n"
          ]
        }
      ]
    }
  ]
}